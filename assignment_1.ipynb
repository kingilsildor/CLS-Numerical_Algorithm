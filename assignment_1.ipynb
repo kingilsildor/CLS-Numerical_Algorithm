{
 "cells": [
  {
   "cell_type": "markdown",
   "id": "0",
   "metadata": {
    "nbgrader": {
     "grade": false,
     "grade_id": "cell-06d3e5bf55c941ae",
     "locked": true,
     "schema_version": 3,
     "solution": false,
     "task": false
    },
    "tags": []
   },
   "source": [
    "# Homework set 1"
   ]
  },
  {
   "cell_type": "markdown",
   "id": "1",
   "metadata": {
    "nbgrader": {
     "grade": false,
     "grade_id": "cell-736ff6bc3e0d0696",
     "locked": true,
     "schema_version": 3,
     "solution": false,
     "task": false
    }
   },
   "source": [
    "Please **submit this Jupyter notebook through Canvas** no later than **Thursday November 7**. **Submit the notebook file with your answers (as .ipynb file) and a pdf printout. The pdf version can be used by the teachers to provide feedback. On canvas there are hints about creating a nice pdf version.**\n",
    "\n",
    "Before you hand in, please make sure the notebook runs, by running \"Restart kernel and run all cells...\" from the Kernel menu.\n",
    "\n",
    "Homework is in **groups of two**, and you are expected to hand in original work. Work that is copied from another group will not be accepted."
   ]
  },
  {
   "cell_type": "markdown",
   "id": "2",
   "metadata": {
    "nbgrader": {
     "grade": false,
     "grade_id": "cell-b13bc5ed16bce8e0",
     "locked": true,
     "schema_version": 3,
     "solution": false,
     "task": false
    }
   },
   "source": [
    "# Exercise 0\n",
    "Write down the names + student ID of the people in your group."
   ]
  },
  {
   "cell_type": "markdown",
   "id": "3",
   "metadata": {
    "nbgrader": {
     "grade": true,
     "grade_id": "cell-fd464f55ba436b1c",
     "locked": false,
     "points": 0,
     "schema_version": 3,
     "solution": true,
     "task": false
    }
   },
   "source": [
    "## Authors\n",
    "\n",
    "- Tycho Stam  (13303147)\n",
    "- Henry Zwart (15393879)"
   ]
  },
  {
   "cell_type": "markdown",
   "id": "4",
   "metadata": {
    "nbgrader": {
     "grade": false,
     "grade_id": "cell-b5a7855ecca9f6be",
     "locked": true,
     "schema_version": 3,
     "solution": false,
     "task": false
    }
   },
   "source": [
    "Run the following cell to import NumPy and Pyplot."
   ]
  },
  {
   "cell_type": "code",
   "execution_count": null,
   "id": "5",
   "metadata": {},
   "outputs": [],
   "source": [
    "import numpy as np\n",
    "import matplotlib.pyplot as plt"
   ]
  },
  {
   "cell_type": "markdown",
   "id": "6",
   "metadata": {},
   "source": [
    "# Writing efficient Numpy code"
   ]
  },
  {
   "cell_type": "markdown",
   "id": "7",
   "metadata": {},
   "source": [
    "## Colon (:) notation\n",
    "In this section we give an introduction to indexing in Numpy. For further information see https://numpy.org/doc/stable/user/basics.indexing.html. \n",
    "\n",
    "By using colon (:) notation you can manipulate entire subblocks of vectors and matrices without having to write a for loop. Let's define a vector first\n",
    "\n",
    "\n"
   ]
  },
  {
   "cell_type": "code",
   "execution_count": null,
   "id": "8",
   "metadata": {},
   "outputs": [],
   "source": [
    "vec1 = np.array([10, 20, 30, 40, 50, 60, 70, 80, 90, 100, 110, 120])"
   ]
  },
  {
   "cell_type": "markdown",
   "id": "9",
   "metadata": {},
   "source": [
    "Using square brackets we can, of course, access the individual elements of this array. For example, to access the fourth element (in human language) we write"
   ]
  },
  {
   "cell_type": "code",
   "execution_count": null,
   "id": "10",
   "metadata": {},
   "outputs": [],
   "source": [
    "vec1[3]  # As you know, Python indexing starts at 0"
   ]
  },
  {
   "cell_type": "markdown",
   "id": "11",
   "metadata": {},
   "source": [
    "Frequently we want to manipulate a range of values of a vector, or a block of values of a matrix. For these scenarios, there is colon indexing. For example, to assign elements $2, 3, 4, 5$ of `vec1` to a new vector `vec2`, we write"
   ]
  },
  {
   "cell_type": "code",
   "execution_count": null,
   "id": "12",
   "metadata": {},
   "outputs": [],
   "source": [
    "# Get elements 2 to 5 from vec1 and put it in vec2\n",
    "vec2 = vec1[2:6]\n",
    "print(vec2)"
   ]
  },
  {
   "cell_type": "markdown",
   "id": "13",
   "metadata": {},
   "source": [
    "This extends to matrices. For example, if we have a $5 \\times 5$ matrix $A$ and we want to change a subblock of this matrix this can be done as follows\n"
   ]
  },
  {
   "cell_type": "code",
   "execution_count": null,
   "id": "14",
   "metadata": {},
   "outputs": [],
   "source": [
    "# A 5x5 matrix of zeros\n",
    "A = np.zeros((5, 5))\n",
    "print(\"Initial choice of A: \\n\", A)\n",
    "\n",
    "# Change a 2x2 subblock of A\n",
    "A[2:4, 2:4] = np.array([[1, 2], [11, 12]])\n",
    "print(\"A after modifying a subblock: \\n\", A)"
   ]
  },
  {
   "cell_type": "markdown",
   "id": "15",
   "metadata": {},
   "source": [
    "There are many more possibilities with the Numpy colon notation, of which we mention a few:"
   ]
  },
  {
   "cell_type": "code",
   "execution_count": null,
   "id": "16",
   "metadata": {},
   "outputs": [],
   "source": [
    "# a stepsize can be introduced using the notation start:stop:step\n",
    "print(\"every second element: \", vec1[0:12:2])\n",
    "\n",
    "# in the notation start:stop, omitting the start value means \"start from 0\"\n",
    "print(\"first three values: \", vec1[:3])\n",
    "\n",
    "# negative numbers mean \"count from the end\"\n",
    "print(\"last three values: \", vec1[-3:])\n",
    "\n",
    "# a single colon means \"all values\"\n",
    "print(\"all values: \", vec1[:])\n",
    "\n",
    "# Example: the following changes the values in the existing array vec1\n",
    "# It does not allocate a new array, like with vec1 = np.ones(...)\n",
    "vec1[:] = 1.0\n",
    "\n",
    "print(\"all values: \", vec1[:])"
   ]
  },
  {
   "cell_type": "markdown",
   "id": "17",
   "metadata": {},
   "source": [
    "## Performance advantage of vector operations"
   ]
  },
  {
   "cell_type": "markdown",
   "id": "18",
   "metadata": {},
   "source": [
    "We just saw how to easily manipulate subblocks of vectors and matrices using colon indexing. This generally makes sense for short code. Without colon indexing, the one-line manipulations above would require a for loop and hence multiple lines of code.\n",
    "\n",
    "Numpy also has many other convenient functions that replace for loops. For example, by using the function numpy.sum you can sum all the elements of a vector without writing a Python for loop. There are many more examples of this coding style, which is called vectorization (replacing for loops by vector commands).\n",
    "\n",
    "Not only does it make for short code, vectorized code is often also much faster.\n",
    "This is because Python is in general a slow language, much slower than for example C. Each line incurs a certain overhead[^1]. Numpy operations are basically calls to C code that perform the vector manipulations efficiently. When executing a vector operation with colon notation, the Python overhead is incurred only once. On the other hand, when executing a Python loop, the Python overhead is incurred each time the code in the loop is executed. Therefore using vector operations with colon notation is generally preferred.\n",
    "\n",
    "[^1]: A full discussion of this is outside the scope of this course."
   ]
  },
  {
   "cell_type": "markdown",
   "id": "19",
   "metadata": {},
   "source": [
    "### Example: Matrix multiplication\n",
    "\n",
    "Here we present a short demo showcasing *how much* faster vectorized operations actually are. We will write two versions of a function that computes a matrix product `C` of two matrices `A` and `B`. We will use the [`%timeit`](https://stackoverflow.com/questions/29280470/what-is-timeit-in-python) macro to investigate the performance of each version."
   ]
  },
  {
   "cell_type": "markdown",
   "id": "20",
   "metadata": {},
   "source": [
    "In the first version of our function we have three `for` loops. We iterate over each entry in matrix `C` and compute it using another `for` loop, which sums up all the products of corresponding entries in row `i` in matrix `A` and column `j` in matrix `B`.\n",
    "\n",
    "Compute, on paper, the matrix product below and convince yourself that the following implementation is correct. \n",
    "$$\\begin{bmatrix}\n",
    "1 & 2 & 3 \\\\\n",
    "4 & 5 & 6 \\\\\n",
    "\\end{bmatrix}\n",
    "\\times\n",
    "\\begin{bmatrix}\n",
    "10 & 11 \\\\\n",
    "20 & 21 \\\\\n",
    "30 & 31 \\\\\n",
    "\\end{bmatrix}\n",
    "= \\mathord{?}\n",
    "$$"
   ]
  },
  {
   "cell_type": "code",
   "execution_count": null,
   "id": "21",
   "metadata": {},
   "outputs": [],
   "source": [
    "def slow_matmul(A, B, C):\n",
    "    \"\"\"\n",
    "    Computes the matrix product of matrices A and B and stores it in matrix C\n",
    "    \"\"\"\n",
    "    for i in range(A.shape[0]):\n",
    "        for j in range(B.shape[1]):\n",
    "            C[i, j] = 0\n",
    "            for k in range(A.shape[1]):\n",
    "                C[i, j] += A[i, k] * B[k, j]"
   ]
  },
  {
   "cell_type": "code",
   "execution_count": null,
   "id": "22",
   "metadata": {},
   "outputs": [],
   "source": [
    "A = np.array([[1, 2, 3], [4, 5, 6]], dtype=int)\n",
    "B = np.array([[10, 11], [20, 21], [30, 31]], dtype=int)\n",
    "C = np.zeros((A.shape[0], B.shape[1]), dtype=int)\n",
    "\n",
    "slow_matmul(A, B, C)\n",
    "print(C)"
   ]
  },
  {
   "cell_type": "markdown",
   "id": "23",
   "metadata": {},
   "source": [
    "In the second version we replace the third `for` loop with a vectorized `np.sum()`. In fact, we use two vectorized operations here. Notice how we efficiently compute all the products of corresponding entries `A` and  `B`. By calling `A[i] * B[:, j]` we compute all the products at once, instead of doing it one-by-one as in the previous version. Look at the code and convince yourself that the implementation is correct."
   ]
  },
  {
   "cell_type": "code",
   "execution_count": null,
   "id": "24",
   "metadata": {},
   "outputs": [],
   "source": [
    "def faster_matmul(A, B, C):\n",
    "    \"\"\"\n",
    "    Computes the matrix product of matrices A and B and stores it in matrix C\n",
    "    \"\"\"\n",
    "    for i in range(A.shape[0]):\n",
    "        for j in range(B.shape[1]):\n",
    "            C[i, j] = np.sum(A[i] * B[:, j])"
   ]
  },
  {
   "cell_type": "code",
   "execution_count": null,
   "id": "25",
   "metadata": {},
   "outputs": [],
   "source": [
    "A = np.array([[1, 2, 3], [4, 5, 6]], dtype=int)\n",
    "B = np.array([[10, 11], [20, 21], [30, 31]], dtype=int)\n",
    "C = np.zeros((A.shape[0], B.shape[1]), dtype=int)\n",
    "\n",
    "faster_matmul(A, B, C)\n",
    "print(C)"
   ]
  },
  {
   "cell_type": "markdown",
   "id": "26",
   "metadata": {},
   "source": [
    "Now we will compare the performance of both versions by computing the matrix product of two $200 \\times 200$ matrices. You can rerun the cells yourself, but keep in mind the execution might take a minute or two for the `slow_matmul` implementation."
   ]
  },
  {
   "cell_type": "code",
   "execution_count": null,
   "id": "27",
   "metadata": {},
   "outputs": [],
   "source": [
    "A = np.random.randint(0, 100, (200, 200), dtype=int)\n",
    "B = np.random.randint(0, 100, (200, 200), dtype=int)\n",
    "C = np.zeros((A.shape[0], B.shape[1]), dtype=int)\n",
    "\n",
    "%timeit slow_matmul(A, B, C)"
   ]
  },
  {
   "cell_type": "code",
   "execution_count": null,
   "id": "28",
   "metadata": {},
   "outputs": [],
   "source": [
    "A = np.random.randint(0, 100, (200, 200), dtype=int)\n",
    "B = np.random.randint(0, 100, (200, 200), dtype=int)\n",
    "C = np.zeros((A.shape[0], B.shape[1]), dtype=int)\n",
    "\n",
    "%timeit faster_matmul(A, B, C)"
   ]
  },
  {
   "cell_type": "markdown",
   "id": "29",
   "metadata": {},
   "source": [
    "On my machine `slow_matmul` ran on average 3.2 s ± 23 ms and `faster_matmul` ran on average 172 ms ± 4.42 ms, meaning that `faster_matmul` was more than $18$ times faster."
   ]
  },
  {
   "cell_type": "markdown",
   "id": "30",
   "metadata": {},
   "source": [
    "Of course, you might already know this, but you should never write your own implementation of matrix multiplication (unless we specifically ask for it). The demo presented above was for illustrative purposes.\n",
    "\n",
    "The most efficient way to multiply two matrices using Numpy is to use `@` operator which calls the `np.matmul` function."
   ]
  },
  {
   "cell_type": "code",
   "execution_count": null,
   "id": "31",
   "metadata": {},
   "outputs": [],
   "source": [
    "%timeit A @ B"
   ]
  },
  {
   "cell_type": "markdown",
   "id": "32",
   "metadata": {},
   "source": [
    "On my machine `A @ B` needed, on average, 9.9 ms ± 151 μs to execute meaning that it is more than $323$ times faster than `slow_matmul` and $17$ times faster than `faster_matmul`."
   ]
  },
  {
   "cell_type": "markdown",
   "id": "33",
   "metadata": {},
   "source": [
    "---"
   ]
  },
  {
   "cell_type": "markdown",
   "id": "34",
   "metadata": {},
   "source": [
    "# Exercise 1\n",
    "\n",
    "Suppose $x_1$ and $x_2$ are two real numbers and that approximate values $\\hat{x}_1$ and $\\hat{x}_2$ are available such that the relative errors satisfy\n",
    "$\\frac{ | \\Delta x_1 | }{ | x_1 | } \\le r_1$\n",
    "and \n",
    "$\\frac{ | \\Delta x_2 | }{ | x_2 | } \\le r_2$\n",
    "for two real numbers $r_1$ and $r_2$. \n",
    "What is the bound for the relative error in the product $\\hat{x}_1 \\hat{x}_2$?\n",
    "\n",
    "\n"
   ]
  },
  {
   "cell_type": "markdown",
   "id": "35",
   "metadata": {},
   "source": [
    "## Solution\n",
    "\n",
    "From the properties of the absolute value function, and the bounds, $r_1, r_2$ on the\n",
    "relative error in $\\hat{x}_1$ and $\\hat{x}_2$ respectively, the following inequalities\n",
    "hold for $i \\in \\{1,2\\}$:\n",
    "\n",
    "\\begin{align*}\n",
    "\\frac{\\Delta x_i}{x_i} \\leq \\left|\\frac{\\Delta x_i}{x_i}\\right| \n",
    "= \\frac{|\\Delta x_i |}{|x_i|}\n",
    "\\leq r_i\n",
    "\\end{align*}\n",
    "\n",
    "The value, $\\hat{x}_i$, may then be defined in terms of the true value, $x_i$ and \n",
    "relative error bound, $r_i$:\n",
    "\n",
    "\\begin{align*}\n",
    "\\frac{\\hat{x}_i - x_i}{x_i} &\\leq r_i \\\\\n",
    "\\implies \\qquad\\quad\\hat{x}_i &\\leq x_i(r_i + 1)\n",
    "\\end{align*}\n",
    "\n",
    "Using this substitution in the product $\\hat{x}_1\\hat{x}_2$, we find:\n",
    "\\begin{align*}\n",
    "\\hat{x}_1\\hat{x}_2 &\\leq [x_1(r_1 + 1)][x_2(r_2 + 1)] \\\\\n",
    "&= x_1x_2(r_1 + 1)(r_2 + 1)\n",
    "\\end{align*}\n",
    "\n",
    "We then incrementally transform the LHS into the relative error in the product, \n",
    "$\\frac{\\Delta (\\hat{x}_1\\hat{x}_2)}{x_1x_2}$:\n",
    "\n",
    "\\begin{align*}\n",
    "\\hat{x}_1\\hat{x}_2 &\\leq x_1x_2(r_1 + 1)(r_2 + 1) \\\\\n",
    "\\hat{x}_1\\hat{x}_2 - x_1x_2 &\\leq x_1x_2(r_1 + 1)(r_2 + 1) - x_1x_2 \\\\\n",
    "\\frac{\\hat{x}_1\\hat{x}_2 - x_1x_2}{x_1x_2} &\\leq (r_1 + 1)(r_2 + 1) - 1 \\\\\n",
    "\\frac{\\Delta (\\hat{x}_1\\hat{x}_2)}{x_1x_2} &\\leq r_1 + r_2 + r_1r_2 \n",
    "\\end{align*}\n",
    "\n",
    "Thus the relative error in the product is bounded above by $r_1 + r_2 + r_1r_2$.\n"
   ]
  },
  {
   "cell_type": "markdown",
   "id": "36",
   "metadata": {},
   "source": [
    "---"
   ]
  },
  {
   "cell_type": "markdown",
   "id": "37",
   "metadata": {},
   "source": [
    "# Exercise 2"
   ]
  },
  {
   "cell_type": "markdown",
   "id": "38",
   "metadata": {},
   "source": [
    "Solve computational exercise 2.3 from Heath (page 99) using your own implementation of LU decomposition with partial pivoting and of back- and forward substitution. Also read carefully the derivation of the matrix for use in the next exercise.\n",
    "\n",
    "As you noticed, there is a short section on colon (:) notation and vectorization in Numpy at the start of this homework set. In the LU decomposition there are a few places where for loops can easily be replaced by vectorized commands. You are asked to use vectorized operations and colon notation in these cases. The same holds for forward and backward substitution.\n",
    "\n",
    "Please first implement the functions for which the headers are in the next cell. Then apply these to solve the problem at hand."
   ]
  },
  {
   "cell_type": "code",
   "execution_count": null,
   "id": "39",
   "metadata": {},
   "outputs": [],
   "source": [
    "def matrix_splitting(A):\n",
    "    \"\"\"\n",
    "    Splits a matrix A into its lower triangular part L and its upper triangular part U\n",
    "    \"\"\"\n",
    "    L = np.tril(A)\n",
    "    U = np.triu(A)\n",
    "    np.fill_diagonal(L, 1)\n",
    "    return L, U"
   ]
  },
  {
   "cell_type": "code",
   "execution_count": null,
   "id": "40",
   "metadata": {},
   "outputs": [],
   "source": [
    "def factorize(A):\n",
    "    \"\"\"\n",
    "    returns a triple (P,L,U) describing the LU decomposition with partial pivoting\n",
    "    \"\"\"\n",
    "    n, _ = A.shape\n",
    "    P = np.identity(n)\n",
    "    G = A.copy()\n",
    "\n",
    "    for k in range(n - 1):\n",
    "        p = np.argmax(np.abs(G[k:, k])) + k\n",
    "        if p != k:\n",
    "            P_dot = np.identity(n)\n",
    "            P_dot[[p, k]] = P_dot[[k, p]]\n",
    "            P = P_dot @ P\n",
    "            G = P_dot @ G\n",
    "\n",
    "        if G[k, k] == 0:\n",
    "            continue\n",
    "\n",
    "        # Calculate the multipliers: divide each value below pivot by the pivot\n",
    "        G[k + 1 :, k] /= G[k, k]\n",
    "\n",
    "        # Decrement the submatrix (k+1:, k+1:) by the row multiplier times the kth row\n",
    "        G[k + 1 :, k + 1 :] -= G[k + 1 :, k, None] * G[k, k + 1 :]\n",
    "\n",
    "    L, U = matrix_splitting(G)\n",
    "    assert np.isclose(P @ A, L @ U).all()\n",
    "\n",
    "    return P, L, U\n",
    "\n",
    "\n",
    "def forwardSubstitution(L, b):\n",
    "    \"\"\"\n",
    "    Solves the linear system Lx = b for x\n",
    "    \"\"\"\n",
    "    n, m = L.shape\n",
    "    x = np.zeros(b.shape, dtype=float)\n",
    "    for j in range(n):\n",
    "        if L[j, j] == 0:\n",
    "            break\n",
    "        x[j] = b[j] / L[j, j]\n",
    "        b[j + 1 :] -= L[j + 1 :, j] * x[j]\n",
    "\n",
    "    return x\n",
    "\n",
    "\n",
    "def backwardSubstitution(U, b):\n",
    "    \"\"\"\n",
    "    Solves the linear system Ux = b for x\n",
    "    \"\"\"\n",
    "\n",
    "    n, m = U.shape\n",
    "    x = np.zeros(b.shape, dtype=float)\n",
    "    for j in reversed(range(n)):\n",
    "        if U[j, j] == 0:\n",
    "            break\n",
    "        x[j] = b[j] / U[j, j]\n",
    "        b[:j] -= U[:j, j] * x[j]\n",
    "\n",
    "    return x"
   ]
  },
  {
   "cell_type": "code",
   "execution_count": null,
   "id": "41",
   "metadata": {},
   "outputs": [],
   "source": [
    "alpha = 1 / np.sqrt(2)\n",
    "\n",
    "truss = np.zeros((13, 13))\n",
    "\n",
    "truss[0, [1, 5]] = [1, -1]\n",
    "truss[1, 2] = 1\n",
    "truss[2, [0, 3, 4]] = [alpha, -1, -alpha]\n",
    "truss[3, [0, 2, 4]] = [alpha, 1, alpha]\n",
    "truss[4, [3, 7]] = [1, -1]\n",
    "truss[5, 6] = 1\n",
    "truss[6, [4, 5, 8, 9]] = [alpha, 1, -alpha, -1]\n",
    "truss[7, [4, 6, 8]] = [alpha, 1, alpha]\n",
    "truss[8, [9, 12]] = [1, -1]\n",
    "truss[9, 10] = 1\n",
    "truss[10, [7, 8, 11]] = [1, alpha, -alpha]\n",
    "truss[11, [8, 10, 11]] = [alpha, 1, alpha]\n",
    "truss[12, [11, 12]] = [alpha, 1]"
   ]
  },
  {
   "cell_type": "code",
   "execution_count": null,
   "id": "42",
   "metadata": {},
   "outputs": [],
   "source": [
    "b = np.zeros(13)\n",
    "b[1] = 10\n",
    "b[7] = 15\n",
    "b[9] = 20"
   ]
  },
  {
   "cell_type": "code",
   "execution_count": null,
   "id": "43",
   "metadata": {},
   "outputs": [],
   "source": [
    "P, L, U = factorize(truss)\n",
    "y = forwardSubstitution(L, P @ b)\n",
    "x = backwardSubstitution(U, y)\n",
    "x"
   ]
  },
  {
   "cell_type": "markdown",
   "id": "44",
   "metadata": {},
   "source": [
    "---"
   ]
  },
  {
   "cell_type": "markdown",
   "id": "45",
   "metadata": {},
   "source": [
    "# Exercise 3"
   ]
  },
  {
   "cell_type": "markdown",
   "id": "46",
   "metadata": {},
   "source": [
    "In exercise 2, you were asked to solve exercise 2.3 from Heath. In this assignment you are asked to create a program that automatically creates the equations for the forces in the truss.\n",
    "\n",
    "We first need a description of a truss. A simple way of doing this is by giving the coordinates of the joints and then list the pairs of joints that are connected, as follows:"
   ]
  },
  {
   "cell_type": "code",
   "execution_count": null,
   "id": "47",
   "metadata": {},
   "outputs": [],
   "source": [
    "# coordinates of joints\n",
    "joints1 = [(0, 0), (1, 0), (1, 1), (2, 1), (2, 0), (3, 0), (3, 1), (4, 0)]\n",
    "\n",
    "# pairs indicating which joints are connected\n",
    "members1 = [\n",
    "    (0, 2),\n",
    "    (0, 1),\n",
    "    (1, 2),\n",
    "    (2, 3),\n",
    "    (2, 4),\n",
    "    (1, 4),\n",
    "    (3, 4),\n",
    "    (3, 6),\n",
    "    (4, 6),\n",
    "    (4, 5),\n",
    "    (5, 6),\n",
    "    (6, 7),\n",
    "    (5, 7),\n",
    "]"
   ]
  },
  {
   "cell_type": "markdown",
   "id": "48",
   "metadata": {},
   "source": [
    "To check this input, we plot it"
   ]
  },
  {
   "cell_type": "code",
   "execution_count": null,
   "id": "49",
   "metadata": {},
   "outputs": [],
   "source": [
    "def DrawTruss(joints, members):\n",
    "    xx = [p[0] for p in joints]\n",
    "    yy = [p[1] for p in joints]\n",
    "    plt.scatter(xx, yy, color=\"r\")\n",
    "    for j, p in enumerate(joints):\n",
    "        plt.text(p[0] + 0.03, p[1], f\"{j}\")\n",
    "    for jA, jB in members:\n",
    "        xxMember = np.array([joints[i][0] for i in (jA, jB)])\n",
    "        yyMember = np.array([joints[i][1] for i in (jA, jB)])\n",
    "        plt.plot(xxMember, yyMember, \"b\")"
   ]
  },
  {
   "cell_type": "code",
   "execution_count": null,
   "id": "50",
   "metadata": {},
   "outputs": [],
   "source": [
    "(fig, ax) = plt.subplots()\n",
    "DrawTruss(joints1, members1)\n",
    "ax.set_aspect(1.0)"
   ]
  },
  {
   "cell_type": "markdown",
   "id": "51",
   "metadata": {},
   "source": [
    "## (a)\n",
    "\n",
    "Modify `DrawTruss` such that the routine can draw the numbers of the members in the graph halfway each member."
   ]
  },
  {
   "cell_type": "code",
   "execution_count": null,
   "id": "52",
   "metadata": {},
   "outputs": [],
   "source": [
    "def DrawTruss(joints, members, forces):\n",
    "    xx = [p[0] for p in joints]\n",
    "    yy = [p[1] for p in joints]\n",
    "    plt.scatter(xx, yy, color=\"r\")\n",
    "\n",
    "    max_force = max(abs(f) for f in forces)\n",
    "\n",
    "    for j, p in enumerate(joints):\n",
    "        plt.text(p[0] + 0.03, p[1], f\"{j}\")\n",
    "    for j, (jA, jB) in enumerate(members):\n",
    "        xxMember = np.array([joints[i][0] for i in (jA, jB)])\n",
    "        yyMember = np.array([joints[i][1] for i in (jA, jB)])\n",
    "\n",
    "        force = forces[j]\n",
    "        if force > 0:\n",
    "            color = \"b\"\n",
    "        elif force < 0:\n",
    "            color = \"r\"\n",
    "        else:\n",
    "            color = \"k\"\n",
    "\n",
    "        x_center = xxMember.mean()\n",
    "        y_center = yyMember.mean()\n",
    "        plt.text(x_center, y_center, f\"{force:.2f}\", color=\"k\")\n",
    "\n",
    "        alpha = abs(force) / max_force if force != 0 else 1\n",
    "        plt.plot(xxMember, yyMember, color=color, alpha=alpha)"
   ]
  },
  {
   "cell_type": "markdown",
   "id": "53",
   "metadata": {},
   "source": [
    "## (b)\n",
    "\n",
    "Study how in exercise 2.3 the equations for the forces are derived.\n",
    "Then write a routine to compute the corresponding matrix automatically from the information above, so arrays like `joints1` and `members1`.\n",
    "\n",
    "You may have noticed that joint 1 and the $y$ component of joint 8 are not included in the equations of exercise 2.3. This is because joint 1 is rigidly fixed and joint 8 is fixed vertically. \n",
    "It is recommended that you first include all joints, so also joint 1 and the $y$ component of joint 8 in the truss of exercise 2.3. In a separate step, you can select the matrix rows that are \"free\" (not fixed in one or both of the directions).\n",
    "\n",
    "Create a vector with external forces (the downward arrows at joints 2, 5, 6 in exercise 2.3), and solve the system. \n",
    "\n",
    "Write the resulting force values in the graph of the truss near the appropriate members.\n",
    "\n",
    "The forces in a member can be compressive (like they \"push\" the member to become shorter) or tension forces (like they pull the member to become longer).\n",
    "Which member or members experience the largest compressive force? Which one experience the largest tension force?\n",
    "\n",
    "(In general one would try to keep such maximum forces as low as possible since that would allow one to use less material.)\n"
   ]
  },
  {
   "cell_type": "code",
   "execution_count": null,
   "id": "54",
   "metadata": {},
   "outputs": [],
   "source": [
    "def derive_forces(joints, members):\n",
    "    \"\"\"\n",
    "    Derive the force matrix A for a truss structure given the joints and members\n",
    "    \"\"\"\n",
    "    joints = np.array(joints)\n",
    "    members = np.array(members)\n",
    "\n",
    "    # Create an empty matrix to store coefficients in\n",
    "    n_joints, n_members = joints.shape[0], members.shape[0]\n",
    "    A = np.zeros((n_joints, n_members, 2), dtype=np.float64)\n",
    "\n",
    "    # By default, use +ve coefficient for right/lower, and -ve for left/upper\n",
    "    default_signs = np.array([[-1, 1], [1, -1]])\n",
    "\n",
    "    # Determine Δx, Δy between joints for each member\n",
    "    delta_member_joints = np.diff(joints[members], axis=1)\n",
    "    member_lengths = np.sqrt((delta_member_joints**2).sum(axis=-1, keepdims=True))\n",
    "    force_xy = delta_member_joints / member_lengths\n",
    "\n",
    "    # Calculate the signed coefficient for each matrix entry as the product of:\n",
    "    #  - horizontal / vertical force component proportion\n",
    "    #  - default sign based on location relative to the other member joint\n",
    "    alpha = force_xy * default_signs\n",
    "\n",
    "    for member_idx, member_joints in enumerate(members):\n",
    "        A[member_joints, member_idx] = alpha[member_idx]\n",
    "\n",
    "    # Flatten the matrix to a 2D matrix\n",
    "    A = np.concat((A[..., 0], A[..., 1]), axis=0)\n",
    "    return A\n",
    "\n",
    "\n",
    "def truss_analysis_matrix_2(\n",
    "    joints, members, external_force_joints, external_forces, fixed_x, fixed_y\n",
    "):\n",
    "    \"\"\"\n",
    "    Perform a truss analysis on a given truss structure\n",
    "    \"\"\"\n",
    "    n_joints = len(joints)\n",
    "    A = derive_forces(joints, members)\n",
    "\n",
    "    # Vector b of external forces, offset as assumed vertical\n",
    "    b = np.zeros(A.shape[0], dtype=np.float64)\n",
    "    b[n_joints + np.array(external_force_joints)] = external_forces\n",
    "\n",
    "    # Remove the rows corresponding to the fixed joints\n",
    "    remove_horizontal = np.array(fixed_x)\n",
    "    remove_vertical = np.array(fixed_y) + n_joints\n",
    "    mask = np.ones(A.shape[0], dtype=bool)\n",
    "    mask[remove_horizontal] = False\n",
    "    mask[remove_vertical] = False\n",
    "    A_free = A[mask]\n",
    "    b_free = b[mask]\n",
    "\n",
    "    P, L, U = factorize(A_free)\n",
    "    y = forwardSubstitution(L, P @ b_free)\n",
    "    x = backwardSubstitution(U, y)\n",
    "\n",
    "    x[x == -0] = 0\n",
    "    return A, x"
   ]
  },
  {
   "cell_type": "code",
   "execution_count": null,
   "id": "55",
   "metadata": {},
   "outputs": [],
   "source": [
    "A, forces = truss_analysis_matrix_2(\n",
    "    joints1,\n",
    "    members1,\n",
    "    external_force_joints=[1, 4, 5],\n",
    "    external_forces=[10, 15, 20],\n",
    "    fixed_x=[0],\n",
    "    fixed_y=[0, 7],\n",
    ")\n",
    "(fig, ax) = plt.subplots()\n",
    "DrawTruss(joints1, members1, forces)\n",
    "ax.set_aspect(1.0)"
   ]
  },
  {
   "cell_type": "markdown",
   "id": "56",
   "metadata": {},
   "source": [
    "## Highest compression and tension\n",
    "\n",
    "These are the members with the largest magnitude negative (compression) and positive\n",
    "(tension) forces."
   ]
  },
  {
   "cell_type": "code",
   "execution_count": null,
   "id": "57",
   "metadata": {},
   "outputs": [],
   "source": [
    "# Convert members to np array for easy indexing\n",
    "members = np.array(members1)\n",
    "\n",
    "# Identify the maximum positive member force\n",
    "max_tensile_force = forces[forces > 0].max()\n",
    "\n",
    "# Locate the members whose force is close to this (np.isclose accounts for inexactness in f64)\n",
    "max_tensile_members = np.argwhere(np.isclose(forces, max_tensile_force)).flatten()\n",
    "\n",
    "# Do the same for compressive forces\n",
    "max_compressive_force = forces[forces < 0].min()\n",
    "max_compressive_members = np.argwhere(\n",
    "    np.isclose(forces, max_compressive_force)\n",
    ").flatten()\n",
    "\n",
    "print(f\"Maximum tensile members (f={max_tensile_force:.2f}):\")\n",
    "print(members[max_tensile_members])\n",
    "\n",
    "print(f\"Maximum compressive members (f={abs(max_compressive_force):.2f}):\")\n",
    "print(members[max_compressive_members])"
   ]
  },
  {
   "cell_type": "code",
   "execution_count": null,
   "id": "58",
   "metadata": {},
   "outputs": [],
   "source": []
  }
 ],
 "metadata": {
  "kernelspec": {
   "display_name": ".venv",
   "language": "python",
   "name": "python3"
  },
  "language_info": {
   "codemirror_mode": {
    "name": "ipython",
    "version": 3
   },
   "file_extension": ".py",
   "mimetype": "text/x-python",
   "name": "python",
   "nbconvert_exporter": "python",
   "pygments_lexer": "ipython3",
   "version": "3.12.7"
  }
 },
 "nbformat": 4,
 "nbformat_minor": 5
}
