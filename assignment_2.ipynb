{
 "cells": [
  {
   "cell_type": "markdown",
   "id": "0",
   "metadata": {
    "nbgrader": {
     "grade": false,
     "grade_id": "cell-06d3e5bf55c941ae",
     "locked": true,
     "schema_version": 3,
     "solution": false,
     "task": false
    },
    "tags": []
   },
   "source": [
    "# Homework set 2"
   ]
  },
  {
   "cell_type": "markdown",
   "id": "1",
   "metadata": {
    "nbgrader": {
     "grade": false,
     "grade_id": "cell-736ff6bc3e0d0696",
     "locked": true,
     "schema_version": 3,
     "solution": false,
     "task": false
    }
   },
   "source": [
    "Please **submit this Jupyter notebook through Canvas** no later than **Thursday November 14**. **Submit the notebook file with your answers (as .ipynb file) and a pdf printout. The pdf version can be used by the teachers to provide feedback. On canvas there are hints about creating a nice pdf version.**\n",
    "\n",
    "Before you hand in, please make sure the notebook runs, by running \"Restart kernel and run all cells...\" from the Kernel menu.\n",
    "\n",
    "Homework is in **groups of two**, and you are expected to hand in original work. Work that is copied from another group will not be accepted."
   ]
  },
  {
   "cell_type": "markdown",
   "id": "2",
   "metadata": {
    "nbgrader": {
     "grade": false,
     "grade_id": "cell-b13bc5ed16bce8e0",
     "locked": true,
     "schema_version": 3,
     "solution": false,
     "task": false
    }
   },
   "source": [
    "# Exercise 0\n",
    "Write down the names + student ID of the people in your group."
   ]
  },
  {
   "cell_type": "markdown",
   "id": "3",
   "metadata": {
    "nbgrader": {
     "grade": true,
     "grade_id": "cell-fd464f55ba436b1c",
     "locked": false,
     "points": 0,
     "schema_version": 3,
     "solution": true,
     "task": false
    }
   },
   "source": [
    "## Authors\n",
    "\n",
    "- Tycho Stam  (13303147)\n",
    "- Henry Zwart (15393879)"
   ]
  },
  {
   "cell_type": "markdown",
   "id": "4",
   "metadata": {
    "nbgrader": {
     "grade": false,
     "grade_id": "cell-b5a7855ecca9f6be",
     "locked": true,
     "schema_version": 3,
     "solution": false,
     "task": false
    }
   },
   "source": [
    "Run the following cell to import NumPy, Matplotlib and some other functions."
   ]
  },
  {
   "cell_type": "code",
   "execution_count": null,
   "id": "5",
   "metadata": {},
   "outputs": [],
   "source": [
    "import numpy as np\n",
    "import scipy.linalg as la\n",
    "import matplotlib.pyplot as plt"
   ]
  },
  {
   "cell_type": "markdown",
   "id": "6",
   "metadata": {
    "nbgrader": {
     "grade": false,
     "grade_id": "cell-806a5c23e94c8795",
     "locked": true,
     "schema_version": 3,
     "solution": false,
     "task": false
    }
   },
   "source": [
    "---\n",
    "\n",
    "# Very short introduction to Matplotlib\n",
    "\n",
    "`matplotlib` is a useful package for visualizing data using Python. Run the first cell below to plot $\\sqrt{x}, x, x^2, x^3$ for $x \\in [1, 10]$."
   ]
  },
  {
   "cell_type": "code",
   "execution_count": null,
   "id": "7",
   "metadata": {},
   "outputs": [],
   "source": [
    "x = np.linspace(1, 10, 10)  # 10 points evenly between 1 and 10.\n",
    "print(x)\n",
    "plt.plot(x, x**0.5, label=r\"$x^{1/2}$\")\n",
    "plt.plot(x, x**1, label=r\"$x$\")\n",
    "plt.plot(x, x**2, label=r\"$x^2$\")\n",
    "plt.plot(x, x**3, label=r\"$x^3$\")\n",
    "plt.legend()\n",
    "plt.show()"
   ]
  },
  {
   "cell_type": "markdown",
   "id": "8",
   "metadata": {
    "nbgrader": {
     "grade": false,
     "grade_id": "cell-ffd60653aaa42801",
     "locked": true,
     "schema_version": 3,
     "solution": false,
     "task": false
    }
   },
   "source": [
    "When visualizing functions where $y$ has many different orders of magnitude, a logarithmic scale is useful:"
   ]
  },
  {
   "cell_type": "code",
   "execution_count": null,
   "id": "9",
   "metadata": {},
   "outputs": [],
   "source": [
    "x = np.linspace(1, 10, 10)\n",
    "plt.semilogy(x, x**0.5, label=r\"$x^{1/2}$\")\n",
    "plt.semilogy(x, x**1, label=r\"$x$\")\n",
    "plt.semilogy(x, x**2, label=r\"$x^2$\")\n",
    "plt.semilogy(x, x**3, label=r\"$x^3$\")\n",
    "plt.legend()\n",
    "plt.show()"
   ]
  },
  {
   "cell_type": "markdown",
   "id": "10",
   "metadata": {
    "nbgrader": {
     "grade": false,
     "grade_id": "cell-06341e9c8d7895d1",
     "locked": true,
     "schema_version": 3,
     "solution": false,
     "task": false
    }
   },
   "source": [
    "When also the $x$-axis contains many orders of magnitude, a log-log plot is most useful:"
   ]
  },
  {
   "cell_type": "code",
   "execution_count": null,
   "id": "11",
   "metadata": {},
   "outputs": [],
   "source": [
    "x = np.logspace(1, 10, 10, base=10)  # 10 points evenly between 10^1 and 10^10.\n",
    "print(x)\n",
    "\n",
    "plt.plot(x, x**0.5, label=r\"$x^{1/2}$\")\n",
    "plt.plot(x, x**1, label=r\"$x$\")\n",
    "plt.plot(x, x**2, label=r\"$x^2$\")\n",
    "plt.plot(x, x**3, label=r\"$x^3$\")\n",
    "plt.legend()\n",
    "plt.show()\n",
    "\n",
    "plt.loglog(x, x**0.5, label=r\"$x^{1/2}$\")\n",
    "plt.loglog(x, x**1, label=r\"$x$\")\n",
    "plt.loglog(x, x**2, label=r\"$x^2$\")\n",
    "plt.loglog(x, x**3, label=r\"$x^3$\")\n",
    "plt.legend()\n",
    "plt.show()"
   ]
  },
  {
   "cell_type": "markdown",
   "id": "12",
   "metadata": {},
   "source": [
    "## Plots of arbitrary curves in the $(x,y)$ plane\n",
    "\n",
    "So far, in all our plots, $y$ was a function of $x$. But this is not the only possibility. One can draw arbitrary curves in the $(x,y)$ plane. Next are two examples"
   ]
  },
  {
   "cell_type": "code",
   "execution_count": null,
   "id": "13",
   "metadata": {},
   "outputs": [],
   "source": [
    "# plot a triangle\n",
    "x = [0, 3, 0, 0]\n",
    "y = [0, 0, 4, 0]\n",
    "plt.plot(x, y)\n",
    "# set aspect ratio to one\n",
    "plt.gca().set_aspect(\"equal\")"
   ]
  },
  {
   "cell_type": "code",
   "execution_count": null,
   "id": "14",
   "metadata": {},
   "outputs": [],
   "source": [
    "# we plot three quarters of a circle from (0,-1) going counter clockwise to (-1,0)\n",
    "t = np.linspace(-0.5 * np.pi, np.pi, 271)\n",
    "x = np.cos(t)\n",
    "y = np.sin(t)\n",
    "plt.plot(x, y)\n",
    "# set the aspectratio to 1 so that it truely looks like a circle\n",
    "plt.gca().set_aspect(\"equal\")"
   ]
  },
  {
   "cell_type": "markdown",
   "id": "15",
   "metadata": {},
   "source": [
    "---\n",
    "\n",
    "# Exercise 1\n",
    "\n",
    "Show that the Gram–Schmidt orthogonalization of an $m \\times m$ matrix requires approximately $m^3$ multiplications and $m^3$ additions.\n"
   ]
  },
  {
   "cell_type": "markdown",
   "id": "16",
   "metadata": {},
   "source": [
    "\\begin{align}\n",
    "&\\textbf{for } k = 1 \\textbf{ to } m \\\\\n",
    "&\\quad q_k = a_k \\\\\n",
    "&\\quad \\textbf{for } j = 1 \\textbf{ to } k - 1 \\\\\n",
    "&\\quad \\quad r_{jk} = q_j^T a_k \\\\\n",
    "&\\quad \\quad q_k = q_k - r_{jk} q_j \\\\\n",
    "&\\quad \\textbf{end} \\\\\n",
    "&\\quad r_{kk} = \\| q_k \\|_2 \\\\\n",
    "&\\quad \\textbf{if } r_{kk} = 0 \\textbf{ then stop} \\\\\n",
    "&\\quad q_k = q_k / r_{kk} \\\\\n",
    "&\\textbf{end}\n",
    "\\end{align}\n",
    "\n",
    "$ T = \\text{total time} = m \\cdot T_1$\n",
    "\n",
    "$T_1 = \\text{time taking for the outerloop (the space between line 2 up to line 9)} $\n",
    "\n",
    "$T_2 = \\text{Second for loop (the space between line 4 to line 5)}$\n",
    "\n",
    "## Multiplications\n",
    "\n",
    "\\begin{align}\n",
    "T_2 &= m \\cdot 2m \\\\\n",
    "T_1 &= T_2 + m + m \\quad \\text{(from line 7 and 9)} \\\\\n",
    "T &= m \\cdot T_1 \\\\\n",
    "&= m(m \\cdot 2m + 2m) \\\\\n",
    "&= 2m^3 + 2m^2 \\approx O(m^3)\n",
    "\\end{align}\n",
    "\n"
   ]
  },
  {
   "cell_type": "markdown",
   "id": "17",
   "metadata": {},
   "source": [
    "## Additions\n",
    "\n",
    "\\begin{align}\n",
    "T_2 &= m \\cdot 2m \\\\\n",
    "T_1 &= T_2 + m \\quad \\text{(from line 7)} \\\\\n",
    "T &= m \\cdot T_1 \\\\\n",
    "&= m(m \\cdot 2m + m) \\\\\n",
    "&= 2m^3 + m^2 \\approx O(m^3)\n",
    "\\end{align}"
   ]
  },
  {
   "cell_type": "markdown",
   "id": "18",
   "metadata": {},
   "source": [
    "-----\n",
    "# Exercise 2\n",
    "We want to reconstruct a function $s(r)$ (also called the signal in this exercise), $t \\in [0,1]$, from data given by\n",
    "$$d(t) = \\int_0^t s(r) \\, dr + \\text{noise}.$$\n",
    "We assume the data is given at $n$ equally space time points $t_j = j h$, $h = \\frac{1}{n}$, $j=1,2, \\ldots, n$. The data is therefore a vector $d = [d_1, \\ldots, d_n]$, where $d_j$ denotes the value at $t_j$. \n",
    "The signal $s$ is to be reconstructed at time points \n",
    "$t_{j-1/2} = (j-1/2)h$ for $j = 1,2, \\ldots, n$. It is described by a vector $s = [s_1, \\ldots, s_n]$ with $s_j$ the value at $t_{j-1/2}$.\n",
    "Numerical integration is described in Chapter 8 of the book by Heath. Using the composite midpoint rule, the vectors $s$ and $d$ are related by\n",
    "$$d = A \\cdot s + \\text{noise}$$\n",
    "where\n",
    "$$A = \\begin{bmatrix} \n",
    "h & 0 & 0 & \\ldots & 0 \\\\\n",
    "h & h & 0 & \\ldots & 0 \\\\\n",
    "h & h & h & \\ddots &  \\vdots \\\\\n",
    "\\vdots & \\vdots & \\ddots & \\ddots & 0 \\\\\n",
    "h & h & \\ldots & h  & h \n",
    "\\end{bmatrix}.$$\n"
   ]
  },
  {
   "cell_type": "markdown",
   "id": "19",
   "metadata": {},
   "source": [
    "## (a)\n",
    "As a test signal we take\n",
    "$$s_{\\rm true}(t) = \\left\\{\n",
    "\\begin{array}{ll} \n",
    "1 & \\text{if $0.05 \\le |t-1/2|<0.15$}\\\\\n",
    "0.7 & \\text{if $|t-1/2|<0.05$}\\\\\n",
    "0 & \\text{otherwise} \\end{array} \n",
    "\\right. .$$ \n",
    "Generate data $d_0$ without noise and data $d_\\epsilon$ with noise, where the noise is normally distributed, with mean zero and standard deviation $\\epsilon = 0.005$.\n",
    "Take for example $n=100$. Plot the data."
   ]
  },
  {
   "cell_type": "code",
   "execution_count": null,
   "id": "20",
   "metadata": {},
   "outputs": [],
   "source": [
    "n = 100\n",
    "h = 1 / n\n",
    "H = np.full((n, n), h)\n",
    "A = np.tril(H)\n",
    "\n",
    "\n",
    "def s_true(t):\n",
    "    like_t = np.zeros_like(t)\n",
    "    like_t[np.abs(t - 0.5) <= 0.15] = 1\n",
    "    like_t[np.abs(t - 0.5) < 0.05] = 0.7\n",
    "\n",
    "    return like_t\n",
    "\n",
    "\n",
    "t = np.arange(1, n + 1, dtype=float) * h\n",
    "s = s_true(t)"
   ]
  },
  {
   "cell_type": "code",
   "execution_count": null,
   "id": "21",
   "metadata": {},
   "outputs": [],
   "source": [
    "d_0 = np.empty(n)\n",
    "d_0 = A @ s\n",
    "\n",
    "fig, axis = plt.subplots(2)\n",
    "axis[0].plot(t, s)\n",
    "axis[1].plot(t, d_0, color=\"red\")\n",
    "axis[1].set_xlabel(\"t\")\n",
    "axis[0].set_ylabel(r\"$s(t)$\")\n",
    "axis[1].set_ylabel(r\"$d_0(t)$\")\n",
    "plt.show()"
   ]
  },
  {
   "cell_type": "code",
   "execution_count": null,
   "id": "22",
   "metadata": {},
   "outputs": [],
   "source": [
    "d_epsilon = np.empty(n)\n",
    "epsilon = 0.005\n",
    "noise = np.random.normal(scale=epsilon, size=n)\n",
    "d_epsilon = A @ s + noise\n",
    "\n",
    "fig, axis = plt.subplots(2)\n",
    "axis[0].plot(t, s)\n",
    "axis[1].plot(t, d_epsilon, color=\"red\")\n",
    "axis[1].set_xlabel(\"t\")\n",
    "axis[0].set_ylabel(r\"$s(t)$\")\n",
    "axis[1].set_ylabel(r\"$d_\\epsilon(t)$\")\n",
    "plt.show()"
   ]
  },
  {
   "cell_type": "markdown",
   "id": "23",
   "metadata": {},
   "source": [
    "## (b)\n",
    "Try to determine $s$ from $d_0$ by inverting the matrix $A$, ignoring the noise term.\n",
    "Do the same with $d_\\epsilon$ instead of $d_0$. Plot the results. What do you observe about the errors in the inversion?\n",
    "\n",
    "You may use a library routine for matrix inversion/solving a linear system."
   ]
  },
  {
   "cell_type": "code",
   "execution_count": null,
   "id": "24",
   "metadata": {},
   "outputs": [],
   "source": [
    "s_prime = la.inv(A) @ d_0\n",
    "fig, axis = plt.subplots(2, 2, figsize=(10, 6))\n",
    "axis[0, 0].plot(t, s)\n",
    "axis[1, 0].plot(t, s_prime, color=\"red\")\n",
    "axis[0, 0].set_ylabel(r\"$s(t)$\")\n",
    "axis[0, 1].set_ylabel(r\"$\\hat{s}_0(t) - s(t)$\")\n",
    "axis[1, 0].set_ylabel(r\"$\\hat{s}_0(t) = A^{-1}d_0(t)$\")\n",
    "\n",
    "axis[0, 1].plot(t, s_prime - s)\n",
    "axis[0, 1].axvline(x=0.35, color=\"k\", linestyle=\"-\")\n",
    "axis[0, 1].axvline(x=0.45, color=\"k\", linestyle=\"-\")\n",
    "axis[0, 1].axvline(x=0.55, color=\"k\", linestyle=\"-\")\n",
    "axis[0, 1].axvline(x=0.65, color=\"k\", linestyle=\"-\")\n",
    "\n",
    "\n",
    "fig.tight_layout()\n",
    "plt.show()"
   ]
  },
  {
   "cell_type": "code",
   "execution_count": null,
   "id": "25",
   "metadata": {},
   "outputs": [],
   "source": [
    "s_prime = la.inv(A) @ d_epsilon\n",
    "\n",
    "fig, axis = plt.subplots(2, 2, figsize=(10, 6))\n",
    "axis[0, 0].plot(t, s)\n",
    "axis[1, 0].plot(t, s_prime, color=\"red\")\n",
    "axis[0, 0].set_ylabel(r\"$s(t)$\")\n",
    "axis[0, 1].set_ylabel(r\"$\\hat{s}_\\epsilon(t) - s(t)$\")\n",
    "axis[1, 0].set_ylabel(r\"$\\hat{s}_\\epsilon(t) = A^{-1}d_\\epsilon(t)$\")\n",
    "\n",
    "axis[0, 1].plot(t, s_prime - s)\n",
    "\n",
    "\n",
    "fig.tight_layout()\n",
    "plt.show()"
   ]
  },
  {
   "cell_type": "code",
   "execution_count": null,
   "id": "26",
   "metadata": {},
   "outputs": [],
   "source": [
    "print(f\"Condtion number: {la.norm(A, np.inf) * la.norm(la.inv(A), np.inf):.2f}\")"
   ]
  },
  {
   "cell_type": "markdown",
   "id": "27",
   "metadata": {},
   "source": [
    "For $d_0$, the absolute error increases for increase in $t$. The errors are particularly pronounced around regions where the function changes sharply. However, the black vertical lines on the error plot illustrate that these spikes in the error do not correspond exactly to the sharp changes.\n",
    "\n",
    "Because of the noise with $d_{\\epsilon}$, and the assumption that we can ignore it when inverting, the plot doesn't resemble the original graph. The condition number of $A$ is:\n",
    "$$\n",
    "\\|A\\| \\cdot \\|A^{-1}\\|_{\\infty} = 200, \\text{for n=100} \\\\\n",
    "$$\n",
    "Since the error in $d_{\\epsilon} \\sim \\mathcal{N} (As, 0.005)$, the condition number amplifies the error by a factor $200$.\n",
    "For error within one $\\sigma (\\pm 0.005)$, this is increased to $\\pm 1$. This explains the noisy final estimate, which lies between $-1$ and $2$."
   ]
  },
  {
   "cell_type": "markdown",
   "id": "28",
   "metadata": {},
   "source": [
    "## (c)\n",
    "One way to address the issue just observed is by truncated SVD regularization. Suppose $A = U \\Sigma V^T$ is the singular value decomposition of $A$. \n",
    "\n",
    "Express the inverse $A^{-1}$ in terms of $U, V$ and $\\Sigma$, or in terms of $U$, $V$ and the singular values.\n",
    "\n",
    "Let $k$ be some integer less or equal than $n$. Denote by $B_k$ the matrix that is obtained from $A$ by setting the smallest $n-k$ singular values to zero (and keeping $U$, $V$ and the first $k$ singular values the same). \n",
    "\n",
    "In truncated SVD regularization, an estimate for $s$ is obtained by applying the pseudoinverse $B_k^{+}$ to the data (instead of the true inverse $A^{-1}$) (see section 3.6 of Heath). Try truncated SVD regularization for various values of $k$. Show that for certain values of $k$ the result obtained by truncated SVD regularization is a \"better\" approximation of the true signal than the result obtained by the true inverse $A^{-1}$.\n",
    "Note that better can mean different things, it can mean \"visually better\" or \"quantitatively better\" in some norm to be specified, try to be precise in what you write down.\n",
    "\n",
    "What happens if you choose $k$ too small?\n",
    "\n",
    "You may use library routines to compute the SVD."
   ]
  },
  {
   "cell_type": "markdown",
   "id": "29",
   "metadata": {},
   "source": [
    "----\n",
    "When $k$ is to small we include the low magnitude singluar values which reflect the noise in the data. As a result we get a noisy estimate for the inverse.\n",
    "In particular, when $k=0$ (or nearby), the output is similar to that of $A^{-1}$."
   ]
  },
  {
   "cell_type": "code",
   "execution_count": null,
   "id": "30",
   "metadata": {},
   "outputs": [],
   "source": [
    "U, Sigma, VT = la.svd(A)\n",
    "np.isclose(A, U @ np.diag(Sigma) @ VT).all()"
   ]
  },
  {
   "cell_type": "code",
   "execution_count": null,
   "id": "31",
   "metadata": {},
   "outputs": [],
   "source": [
    "U, Sigma, VT = la.svd(A)\n",
    "Sigma_p = Sigma.copy()\n",
    "nonzero = ~np.isclose(Sigma, 0)\n",
    "Sigma_p[nonzero] = 1 / Sigma_p[nonzero]\n",
    "A_range = [0, 15, 45, 80, 99]\n",
    "\n",
    "fig, axis = plt.subplots(1, 2, figsize=(10, 6))\n",
    "\n",
    "for k in A_range:\n",
    "    Sigma_k_p = np.diag(np.where(np.arange(n) < n - k, Sigma_p, 0))\n",
    "    B_k_p = VT.T @ Sigma_k_p @ U.T\n",
    "\n",
    "    s_est = B_k_p @ d_epsilon\n",
    "    s_prime = la.inv(A) @ d_epsilon\n",
    "    axis[0].plot(t, s_est, label=f\"k={k}\")\n",
    "    axis[1].plot(t, s_prime, label=f\"k={k}\", color=\"red\")\n",
    "\n",
    "    print(f\"k={k}: 2-norm={la.norm(s_est - s, ord=2):.2f}\")\n",
    "    legend = axis[0].legend(loc=\"upper right\")\n",
    "\n",
    "plt.tight_layout()"
   ]
  },
  {
   "cell_type": "code",
   "execution_count": null,
   "id": "32",
   "metadata": {},
   "outputs": [],
   "source": [
    "k_range = np.arange(n)\n",
    "error_values = np.empty_like(k_range, dtype=np.float64)\n",
    "\n",
    "\n",
    "for k in k_range:\n",
    "    Sigma_k_p = np.diag(np.where(np.arange(n) < n - k, Sigma_p, 0))\n",
    "    B_k_p = VT.T @ Sigma_k_p @ U.T\n",
    "\n",
    "    s_est = B_k_p @ d_epsilon\n",
    "    s_prime = la.inv(A) @ d_epsilon\n",
    "    error_values[k] = la.norm(s_est - s, ord=2)\n",
    "\n",
    "fig, ax = plt.subplots()\n",
    "ax.plot(k_range, error_values)\n",
    "ax.set_ylim(0, None)\n",
    "ax.set_xlim(0, 99)\n",
    "ax.set_xlabel(r\"$k$\")\n",
    "ax.set_ylabel(r\"$||s - \\hat{s}||_2$\")\n",
    "fig.tight_layout()\n",
    "plt.show()"
   ]
  },
  {
   "cell_type": "markdown",
   "id": "33",
   "metadata": {},
   "source": [
    "## (d)\n",
    "\n",
    "Make a plot of the singular values of $A$. Explain your findings in (b) and (c). Part of your explanation should refer to the plot."
   ]
  },
  {
   "cell_type": "code",
   "execution_count": null,
   "id": "34",
   "metadata": {},
   "outputs": [],
   "source": [
    "fig, ax = plt.subplots()\n",
    "sigma_index = np.arange(1, n + 1)\n",
    "ax.scatter(sigma_index, Sigma, s=5)\n",
    "ax.set_ylim(0, None)\n",
    "ax.set_xlim(0, 99)\n",
    "ax.set_xlabel(r\"$n - k$\")\n",
    "ax.set_ylabel(r\"$\\Sigma_k$\")\n",
    "\n",
    "print(f\"Condition number: {Sigma.max() / Sigma.min()}\")"
   ]
  },
  {
   "cell_type": "markdown",
   "id": "35",
   "metadata": {},
   "source": [
    "As seen in the figure above, the values of $\\Sigma_k$​ decrease quickly as $k$ increases, eventually flattening out near zero as $k \\rightarrow n$.\n",
    "A similar patern is seen in the figure for c\\), whereby the optimal $k$ is around $80$.\n",
    "When $k$ is larger than $80$ more of the large magnitute value are being excluded, resulting in less values that can be used to construct $d_{\\epsilon}$\n",
    "\n",
    "Furthermore, the difference in magnitude between the largest and smallest singular values supports our earlier discussion on the condition number, which may \n",
    "also be defined as the ratio of these values: $\\sigma_{max}/\\sigma{min} = 127.9$. This is of a similar magnitude to $200$, the \n",
    "condition number computed as $\\|A\\|\\|A^{-1}\\|_\\infty$. "
   ]
  }
 ],
 "metadata": {
  "kernelspec": {
   "display_name": ".venv",
   "language": "python",
   "name": "python3"
  },
  "language_info": {
   "codemirror_mode": {
    "name": "ipython",
    "version": 3
   },
   "file_extension": ".py",
   "mimetype": "text/x-python",
   "name": "python",
   "nbconvert_exporter": "python",
   "pygments_lexer": "ipython3",
   "version": "3.12.6"
  }
 },
 "nbformat": 4,
 "nbformat_minor": 5
}
