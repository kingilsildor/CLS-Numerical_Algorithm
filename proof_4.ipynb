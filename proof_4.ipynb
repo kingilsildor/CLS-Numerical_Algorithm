{
 "cells": [
  {
   "cell_type": "markdown",
   "metadata": {},
   "source": [
    "For an interval $[a,b]$, denote the midpoint by $m = \\frac{a + b}{2}$, and let $h = \n",
    "(b - a)$. \n",
    "\n",
    "Evaluating a third-order Taylor expansion around $m$ at the endpoints, $a$ and $b$ \n",
    "gives: \n",
    "\n",
    "\\begin{align*}\n",
    "f(a) &= f(m) - f'(m)(h/2) + \\frac{1}{2}f''(m)(h/2)^2 - \\frac{1}{6}f^{(3)}(m)(h/2)^3 + O(h^4) \\\\\n",
    "f(b) &= f(m) + f'(m)(h/2) + \\frac{1}{2}f''(m)(h/2)^2 + \\frac{1}{6}f^{(3)}(m)(h/2)^3 + O(h^4) \\\\\n",
    "\\end{align*}\n",
    "\n",
    "Whose sum cancels odd-powered terms, producing:\n",
    "\n",
    "$$\n",
    "f(a) + f(b) = 2f(m) + \\frac{1}{2}f''(m)(h/2)^2 + O(h^4)\n",
    "$$\n",
    "\n",
    "From the lectures, we obtain an expression for the integral of $f$ as a\n",
    "fourth-order Taylor expansion around $m$:\n",
    "\n",
    "$$\n",
    "I(f) = f(m)h + \\frac{1}{24}f''(m)h^3 + \\frac{1}{1920}f^{(4)}(m)h^5 + O(h^7)\n",
    "$$\n",
    "\n",
    "$I_1$ and $I_2$ are expressed in terms of the composite trapezoid formula, as:\n",
    "\n",
    "\\begin{align*}\n",
    "    I_1(f) &= \\frac{h}{2}\\left[f(a) + f(b)\\right] \\\\\n",
    "    I_2(f) &= \\frac{h}{2}\\left[\\frac{f(a) + f(b)}{2} + f(m)\\right]\n",
    "\\end{align*}\n",
    "\n",
    "We first identify a simplifed form of the target difference, $I_1(f) - I_2(f)$, with \n",
    "sustitution of $f(a) + f(b)$ by the aforestated Taylor expansion:\n",
    "\n",
    "\\begin{align*}\n",
    "I_1(f) - I_2(f) &= \\frac{h}{2}\\left[\\frac{f(a) + f(b)}{2} - f(m)\\right] \\\\\n",
    "&= \\frac{h}{2}\\left[\\frac{2f(m) + f''(m)(h/2)^2 + O(h^4)}{2} - f(m)\\right] \\\\\n",
    "&= \\frac{1}{16}f''(m)h^3 + O(h^5)\n",
    "\\end{align*}\n",
    "\n",
    "Finally, we show that the error in $I_2(f)$, denoted $E_2(f) = I_2(f) - I(f)$, is \n",
    "estimated by a scalar multiple of this difference:\n",
    "\n",
    "\\begin{align*}\n",
    "I_2(f) - I(f) &= \\frac{h}{2}\\left[\\frac{f(a) + f(b)}{2} + f(m)\\right] - I(f) \\\\\n",
    "&= \\frac{h}{2}\\left[\\frac{2f(m) + \\frac{1}{4}f''(m)h^2 + O(h^4)}{2} + f(m)\\right] - I(f) \\\\\n",
    "&= \\frac{1}{24}f''(m)h^3 + O(h^5) \\\\\n",
    "&= \\frac{2}{3}\\left[\\frac{1}{16}f''(m)h^3\\right] + O(h^5) \\\\\n",
    "&= \\frac{2}{3}\\left[I_1(f) - I_2(f)\\right] + O(h^5)\n",
    "\\end{align*}\n",
    "\n",
    "So we see that $\\frac{2}{3}(I_1(f) - I_2(f))$ is a reasonable approximation to $E_2(f)$."
   ]
  },
  {
   "cell_type": "markdown",
   "metadata": {},
   "source": []
  }
 ],
 "metadata": {
  "language_info": {
   "name": "python"
  }
 },
 "nbformat": 4,
 "nbformat_minor": 2
}
